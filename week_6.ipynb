{
  "nbformat": 4,
  "nbformat_minor": 0,
  "metadata": {
    "colab": {
      "provenance": [],
      "authorship_tag": "ABX9TyMDRs8Ek8HftrTlma+ZOzka",
      "include_colab_link": true
    },
    "kernelspec": {
      "name": "python3",
      "display_name": "Python 3"
    },
    "language_info": {
      "name": "python"
    }
  },
  "cells": [
    {
      "cell_type": "markdown",
      "metadata": {
        "id": "view-in-github",
        "colab_type": "text"
      },
      "source": [
        "<a href=\"https://colab.research.google.com/github/Poojait2005/Data-science-1/blob/main/week_6.ipynb\" target=\"_parent\"><img src=\"https://colab.research.google.com/assets/colab-badge.svg\" alt=\"Open In Colab\"/></a>"
      ]
    },
    {
      "cell_type": "code",
      "execution_count": 4,
      "metadata": {
        "colab": {
          "base_uri": "https://localhost:8080/"
        },
        "id": "MW8KQc8zxsha",
        "outputId": "cf12b5a1-b9cc-43ad-8702-5cb9383cc976"
      },
      "outputs": [
        {
          "output_type": "stream",
          "name": "stdout",
          "text": [
            "Mean:55.0\n"
          ]
        }
      ],
      "source": [
        "import numpy as np\n",
        "import pandas as pd\n",
        "from scipy import stats\n",
        "data=[10,20,30,40,50,60,70,80,90,100]\n",
        "mean_value=np.mean(data)\n",
        "print(f\"Mean:{mean_value}\")\n"
      ]
    },
    {
      "cell_type": "code",
      "source": [
        "variance=np.var(data,ddof=1)\n",
        "std_dev=np.std(data,ddof=1)\n",
        "print(f\"Variance:{variance},Standard Deviation:{std_dev}\")"
      ],
      "metadata": {
        "id": "Fw6QEO7Sy0GT",
        "outputId": "34dbb11e-e1af-4463-ac0f-bc7441f7a7a3",
        "colab": {
          "base_uri": "https://localhost:8080/"
        }
      },
      "execution_count": 5,
      "outputs": [
        {
          "output_type": "stream",
          "name": "stdout",
          "text": [
            "Variance:916.6666666666666,Standard Deviation:30.276503540974915\n"
          ]
        }
      ]
    },
    {
      "cell_type": "code",
      "source": [],
      "metadata": {
        "id": "piChgCInznjX"
      },
      "execution_count": null,
      "outputs": []
    }
  ]
}